{
    "cells": [
        {
            "cell_type": "markdown",
            "metadata": {
                "collapsed": true
            },
            "source": "# REGRESSION MODEL IN KERAS"
        },
        {
            "cell_type": "markdown",
            "metadata": {},
            "source": "## A. BUILD A BASELINE MODEL\nUse the Keras library to build a neural network with the following:\n\n- One hidden layer of 10 nodes, and a ReLU activation function\n\n- Use the adam optimizer and the mean squared error as the loss function."
        },
        {
            "cell_type": "code",
            "execution_count": 1,
            "metadata": {},
            "outputs": [
                {
                    "data": {
                        "text/html": "<div>\n<style scoped>\n    .dataframe tbody tr th:only-of-type {\n        vertical-align: middle;\n    }\n\n    .dataframe tbody tr th {\n        vertical-align: top;\n    }\n\n    .dataframe thead th {\n        text-align: right;\n    }\n</style>\n<table border=\"1\" class=\"dataframe\">\n  <thead>\n    <tr style=\"text-align: right;\">\n      <th></th>\n      <th>Cement</th>\n      <th>Blast Furnace Slag</th>\n      <th>Fly Ash</th>\n      <th>Water</th>\n      <th>Superplasticizer</th>\n      <th>Coarse Aggregate</th>\n      <th>Fine Aggregate</th>\n      <th>Age</th>\n      <th>Strength</th>\n    </tr>\n  </thead>\n  <tbody>\n    <tr>\n      <th>0</th>\n      <td>540.0</td>\n      <td>0.0</td>\n      <td>0.0</td>\n      <td>162.0</td>\n      <td>2.5</td>\n      <td>1040.0</td>\n      <td>676.0</td>\n      <td>28</td>\n      <td>79.99</td>\n    </tr>\n    <tr>\n      <th>1</th>\n      <td>540.0</td>\n      <td>0.0</td>\n      <td>0.0</td>\n      <td>162.0</td>\n      <td>2.5</td>\n      <td>1055.0</td>\n      <td>676.0</td>\n      <td>28</td>\n      <td>61.89</td>\n    </tr>\n    <tr>\n      <th>2</th>\n      <td>332.5</td>\n      <td>142.5</td>\n      <td>0.0</td>\n      <td>228.0</td>\n      <td>0.0</td>\n      <td>932.0</td>\n      <td>594.0</td>\n      <td>270</td>\n      <td>40.27</td>\n    </tr>\n    <tr>\n      <th>3</th>\n      <td>332.5</td>\n      <td>142.5</td>\n      <td>0.0</td>\n      <td>228.0</td>\n      <td>0.0</td>\n      <td>932.0</td>\n      <td>594.0</td>\n      <td>365</td>\n      <td>41.05</td>\n    </tr>\n    <tr>\n      <th>4</th>\n      <td>198.6</td>\n      <td>132.4</td>\n      <td>0.0</td>\n      <td>192.0</td>\n      <td>0.0</td>\n      <td>978.4</td>\n      <td>825.5</td>\n      <td>360</td>\n      <td>44.30</td>\n    </tr>\n  </tbody>\n</table>\n</div>",
                        "text/plain": "   Cement  Blast Furnace Slag  Fly Ash  Water  Superplasticizer  \\\n0   540.0                 0.0      0.0  162.0               2.5   \n1   540.0                 0.0      0.0  162.0               2.5   \n2   332.5               142.5      0.0  228.0               0.0   \n3   332.5               142.5      0.0  228.0               0.0   \n4   198.6               132.4      0.0  192.0               0.0   \n\n   Coarse Aggregate  Fine Aggregate  Age  Strength  \n0            1040.0           676.0   28     79.99  \n1            1055.0           676.0   28     61.89  \n2             932.0           594.0  270     40.27  \n3             932.0           594.0  365     41.05  \n4             978.4           825.5  360     44.30  "
                    },
                    "execution_count": 1,
                    "metadata": {},
                    "output_type": "execute_result"
                }
            ],
            "source": "import pandas as pd\nimport numpy as np\n\n# download data into a Pandas dataframe\nconcrete_data = pd.read_csv('https://s3-api.us-geo.objectstorage.softlayer.net/cf-courses-data/CognitiveClass/DL0101EN/labs/data/concrete_data.csv')\nconcrete_data.head()\n\n# the data is already clean"
        },
        {
            "cell_type": "markdown",
            "metadata": {},
            "source": "1. Randomly split the data into a training and test sets by holding 30% of the data for testing"
        },
        {
            "cell_type": "code",
            "execution_count": 2,
            "metadata": {},
            "outputs": [
                {
                    "data": {
                        "text/plain": "8"
                    },
                    "execution_count": 2,
                    "metadata": {},
                    "output_type": "execute_result"
                }
            ],
            "source": "# divide into predictors and response\nconcrete_data_columns = concrete_data.columns\n\nx = concrete_data[concrete_data_columns[concrete_data_columns != 'Strength']] # all columns except Strength\ny = concrete_data['Strength'] # Strength column\n\n# split into train and test\nfrom sklearn.model_selection import train_test_split\nxTrain, xTest, yTrain, yTest = train_test_split(x, y, test_size = 0.3, random_state = 0)\n\n# number of predictors\nn_cols = x.shape[1] \nn_cols"
        },
        {
            "cell_type": "markdown",
            "metadata": {},
            "source": "2. Train the model on the training data using 50 epochs."
        },
        {
            "cell_type": "code",
            "execution_count": 3,
            "metadata": {},
            "outputs": [
                {
                    "name": "stderr",
                    "output_type": "stream",
                    "text": "Using TensorFlow backend.\n"
                },
                {
                    "name": "stdout",
                    "output_type": "stream",
                    "text": "WARNING:tensorflow:From /opt/conda/envs/Python36/lib/python3.6/site-packages/tensorflow/python/framework/op_def_library.py:263: colocate_with (from tensorflow.python.framework.ops) is deprecated and will be removed in a future version.\nInstructions for updating:\nColocations handled automatically by placer.\nWARNING:tensorflow:From /opt/conda/envs/Python36/lib/python3.6/site-packages/tensorflow/python/ops/math_ops.py:3066: to_int32 (from tensorflow.python.ops.math_ops) is deprecated and will be removed in a future version.\nInstructions for updating:\nUse tf.cast instead.\n"
                },
                {
                    "data": {
                        "text/plain": "<keras.callbacks.History at 0x7f0a091fde10>"
                    },
                    "execution_count": 3,
                    "metadata": {},
                    "output_type": "execute_result"
                }
            ],
            "source": "import keras\nfrom keras.models import Sequential\nfrom keras.layers import Dense\n\n# define regression model\ndef regression_model():\n    # create model\n    model = Sequential()\n    model.add(Dense(10, activation='relu', input_shape=(n_cols,)))\n    model.add(Dense(1))\n    \n    # compile model\n    model.compile(optimizer='adam', loss='mean_squared_error')\n    return model\n\n# build the model\nmodel = regression_model()\n\n# fit the model\nmodel.fit(xTrain, yTrain, epochs=50, verbose=0)"
        },
        {
            "cell_type": "markdown",
            "metadata": {},
            "source": "3. Evaluate the model on the test data and compute the mean squared error between the predicted concrete strength and the actual concrete strength"
        },
        {
            "cell_type": "code",
            "execution_count": 4,
            "metadata": {},
            "outputs": [
                {
                    "data": {
                        "text/plain": "95.03210172611968"
                    },
                    "execution_count": 4,
                    "metadata": {},
                    "output_type": "execute_result"
                }
            ],
            "source": "predictions = model.predict(xTest)\n\nfrom sklearn.metrics import mean_squared_error \nmean_squared_error(yTest,predictions) "
        },
        {
            "cell_type": "markdown",
            "metadata": {},
            "source": "4. Repeat steps 1 - 3, 50 times"
        },
        {
            "cell_type": "code",
            "execution_count": 6,
            "metadata": {},
            "outputs": [],
            "source": "mse_list = []\nfor i in range(0,50):\n    # build the model\n    model = regression_model()\n\n    # fit the model\n    model.fit(xTrain, yTrain, epochs=50, verbose = 0)\n    \n    #get predictions\n    predictions = model.predict(xTest)\n    \n    #get mse\n    mse = mean_squared_error(yTest,predictions)\n    mse_list.append(mse)"
        },
        {
            "cell_type": "markdown",
            "metadata": {},
            "source": "5. Report the mean and the standard deviation of the mean squared errors."
        },
        {
            "cell_type": "code",
            "execution_count": 7,
            "metadata": {},
            "outputs": [
                {
                    "name": "stdout",
                    "output_type": "stream",
                    "text": "std is: 590.5158357903013\nmean is: 481.3960356649737\n"
                }
            ],
            "source": "#standard deviation\nprint(\"std is: \" + str(np.std(mse_list)))\n\n#mean\nprint(\"mean is: \" + str(np.mean(mse_list)))"
        },
        {
            "cell_type": "markdown",
            "metadata": {},
            "source": "## B. NORMALIZE THE DATA\nRepeat Part A but use a normalized version of the data. Recall that one way to normalize the data is by subtracting the mean from the individual predictors and dividing by the standard deviation.\n\nHow does the mean of the mean squared errors compare to that from Step A?"
        },
        {
            "cell_type": "code",
            "execution_count": 8,
            "metadata": {},
            "outputs": [
                {
                    "name": "stdout",
                    "output_type": "stream",
                    "text": "The new std is: 88.32165451067436\nThe new mean is: 346.82775660630216\n"
                }
            ],
            "source": "# normalize predictors\nx_norm = (x - x.mean()) / x.std()\n\n# split into train and test\nfrom sklearn.model_selection import train_test_split\nxTrain, xTest, yTrain, yTest = train_test_split(x_norm, y, test_size = 0.3, random_state = 0)\n\nmse_list2 = []\nfor i in range(0,50):\n    # build the model\n    model = regression_model()\n\n    # fit the model\n    model.fit(xTrain, yTrain, epochs=50, verbose=0)\n    \n    #get predictions\n    predictions = model.predict(xTest)\n    \n    #get mse\n    mse = mean_squared_error(yTest,predictions)\n    mse_list2.append(mse)\n    \n#standard deviation\nprint(\"The new std is: \" + str(np.std(mse_list2)))\n\n#mean\nprint(\"The new mean is: \" + str(np.mean(mse_list2)))"
        },
        {
            "cell_type": "markdown",
            "metadata": {},
            "source": "**The mean is less than the one in Step A.\nThen, normalized predictors improved the results.**"
        },
        {
            "cell_type": "markdown",
            "metadata": {},
            "source": "## C. INCREASE THE NUMBER OF EPOCHS\nRepeat Part B but use 100 epochs this time for training.\n\nHow does the mean of the mean squared errors compare to that from Step B?"
        },
        {
            "cell_type": "code",
            "execution_count": 9,
            "metadata": {},
            "outputs": [
                {
                    "name": "stdout",
                    "output_type": "stream",
                    "text": "The new std is: 8.803264308310869\nThe new mean is: 147.49092498984265\n"
                }
            ],
            "source": "mse_list3 = []\nfor i in range(0,50):\n    # build the model\n    model = regression_model()\n\n    # fit the model\n    model.fit(xTrain, yTrain, epochs=100, verbose=0)\n    \n    #get predictions\n    predictions = model.predict(xTest)\n    \n    #get mse\n    mse = mean_squared_error(yTest,predictions)\n    mse_list3.append(mse)\n    \n#standard deviation\nprint(\"The new std is: \" + str(np.std(mse_list3)))\n\n#mean\nprint(\"The new mean is: \" + str(np.mean(mse_list3)))"
        },
        {
            "cell_type": "markdown",
            "metadata": {},
            "source": "**The mean is significantly less than in Step B.\nThen, doubling the number of epochs improved the results.**"
        },
        {
            "cell_type": "markdown",
            "metadata": {},
            "source": "## D. INCREASE THE NUMBER OF HIDDEN LAYERS\nRepeat part B but use a neural network with the following instead:\n\n- Three hidden layers, each of 10 nodes and ReLU activation function.\n\nHow does the mean of the mean squared errors compare to that from Step B?"
        },
        {
            "cell_type": "code",
            "execution_count": 11,
            "metadata": {},
            "outputs": [
                {
                    "name": "stdout",
                    "output_type": "stream",
                    "text": "The new std is: 10.82337995499256\nThe new mean is: 115.06115173293624\n"
                }
            ],
            "source": "# define regression model\ndef regression_model():\n    # create model\n    model = Sequential()\n    model.add(Dense(10, activation='relu', input_shape=(n_cols,)))\n    model.add(Dense(10, activation='relu'))\n    model.add(Dense(10, activation='relu'))\n    model.add(Dense(1))\n    \n    # compile model\n    model.compile(optimizer='adam', loss='mean_squared_error')\n    return model\n\nmse_list4 = []\nfor i in range(0,50):\n    # build the model\n    model = regression_model()\n\n    # fit the model\n    model.fit(xTrain, yTrain, epochs=50, verbose=0)\n    \n    #get predictions\n    predictions = model.predict(xTest)\n    \n    #get mse\n    mse = mean_squared_error(yTest,predictions)\n    mse_list4.append(mse)\n    \n#standard deviation\nprint(\"The new std is: \" + str(np.std(mse_list4)))\n\n#mean\nprint(\"The new mean is: \" + str(np.mean(mse_list4)))"
        },
        {
            "cell_type": "markdown",
            "metadata": {},
            "source": "**The mean is significantly lower than in Step B.\nThen, adding new hidden layers improved the results.**"
        },
        {
            "cell_type": "code",
            "execution_count": null,
            "metadata": {},
            "outputs": [],
            "source": ""
        }
    ],
    "metadata": {
        "kernelspec": {
            "display_name": "Python 3.6",
            "language": "python",
            "name": "python3"
        },
        "language_info": {
            "codemirror_mode": {
                "name": "ipython",
                "version": 3
            },
            "file_extension": ".py",
            "mimetype": "text/x-python",
            "name": "python",
            "nbconvert_exporter": "python",
            "pygments_lexer": "ipython3",
            "version": "3.6.9"
        }
    },
    "nbformat": 4,
    "nbformat_minor": 1
}